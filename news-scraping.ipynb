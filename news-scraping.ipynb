{
 "cells": [
  {
   "cell_type": "markdown",
   "metadata": {},
   "source": [
    "# This script is used to scrape real news from the times of india"
   ]
  },
  {
   "cell_type": "code",
   "execution_count": 2,
   "metadata": {},
   "outputs": [],
   "source": [
    "import requests\n",
    "from bs4 import BeautifulSoup\n",
    "import pandas as pd"
   ]
  },
  {
   "cell_type": "code",
   "execution_count": 2,
   "metadata": {},
   "outputs": [],
   "source": [
    "home = 'https://timesofindia.indiatimes.com/india/'\n",
    "home_urls = []"
   ]
  },
  {
   "cell_type": "code",
   "execution_count": 3,
   "metadata": {},
   "outputs": [],
   "source": [
    "for i in range(2,13):\n",
    "    home_urls.append(home + str(i))"
   ]
  },
  {
   "cell_type": "code",
   "execution_count": 4,
   "metadata": {},
   "outputs": [],
   "source": [
    "def getNewLinks(arr):\n",
    "    newLinks = []\n",
    "    for i in arr:\n",
    "        page = requests.get(i)\n",
    "        soup = BeautifulSoup(page.content , 'html.parser')\n",
    "        div2 = soup.find('ul' , class_ = 'top-newslist clearfix')\n",
    "        for i in div2.find_all( href = True):\n",
    "            newLinks.append(i['href'])\n",
    "        div3 = soup.find_all('ul' , class_='list5 clearfix')\n",
    "        for i in div3[0].find_all(href = True):\n",
    "            newLinks.append(i['href'])\n",
    "        for i in div3[0].find_all(href = True):\n",
    "            newLinks.append(i['href'])\n",
    "    add = 'https://timesofindia.indiatimes.com'\n",
    "    return ([add+w for w in newLinks])\n",
    "        "
   ]
  },
  {
   "cell_type": "code",
   "execution_count": 5,
   "metadata": {},
   "outputs": [],
   "source": [
    "newsLinks = getNewLinks(home_urls)"
   ]
  },
  {
   "cell_type": "code",
   "execution_count": 6,
   "metadata": {},
   "outputs": [
    {
     "data": {
      "text/plain": [
       "264"
      ]
     },
     "execution_count": 6,
     "metadata": {},
     "output_type": "execute_result"
    }
   ],
   "source": [
    "len(newsLinks)"
   ]
  },
  {
   "cell_type": "code",
   "execution_count": 7,
   "metadata": {},
   "outputs": [],
   "source": [
    "def getNews(arr):\n",
    "    allNews = []\n",
    "    for i in arr:\n",
    "        page = requests.get(i)\n",
    "        soup = BeautifulSoup(page.content , 'html.parser')\n",
    "        newsSoup = soup.find('div' , class_='_3WlLe clearfix')\n",
    "        if newsSoup:\n",
    "            allNews.append(newsSoup.get_text())\n",
    "    return allNews"
   ]
  },
  {
   "cell_type": "code",
   "execution_count": 8,
   "metadata": {},
   "outputs": [],
   "source": [
    "allNews = getNews(newsLinks)"
   ]
  },
  {
   "cell_type": "code",
   "execution_count": 9,
   "metadata": {},
   "outputs": [],
   "source": [
    "newsDF = pd.DataFrame()"
   ]
  },
  {
   "cell_type": "code",
   "execution_count": 10,
   "metadata": {},
   "outputs": [],
   "source": [
    "newsDF['news'] = allNews"
   ]
  },
  {
   "cell_type": "code",
   "execution_count": 11,
   "metadata": {},
   "outputs": [],
   "source": [
    "newsDF['label'] = ['True' for _ in range(len(newsDF))]"
   ]
  },
  {
   "cell_type": "code",
   "execution_count": 12,
   "metadata": {},
   "outputs": [
    {
     "data": {
      "text/html": [
       "<div>\n",
       "<style scoped>\n",
       "    .dataframe tbody tr th:only-of-type {\n",
       "        vertical-align: middle;\n",
       "    }\n",
       "\n",
       "    .dataframe tbody tr th {\n",
       "        vertical-align: top;\n",
       "    }\n",
       "\n",
       "    .dataframe thead th {\n",
       "        text-align: right;\n",
       "    }\n",
       "</style>\n",
       "<table border=\"1\" class=\"dataframe\">\n",
       "  <thead>\n",
       "    <tr style=\"text-align: right;\">\n",
       "      <th></th>\n",
       "      <th>news</th>\n",
       "      <th>label</th>\n",
       "    </tr>\n",
       "  </thead>\n",
       "  <tbody>\n",
       "    <tr>\n",
       "      <th>0</th>\n",
       "      <td>NEW DELHI: Shops selling educational books and...</td>\n",
       "      <td>True</td>\n",
       "    </tr>\n",
       "    <tr>\n",
       "      <th>1</th>\n",
       "      <td>NEW DELHI: Shops selling educational books and...</td>\n",
       "      <td>True</td>\n",
       "    </tr>\n",
       "    <tr>\n",
       "      <th>2</th>\n",
       "      <td>UNITED NATIONS: India has co-sponsored a UN Ge...</td>\n",
       "      <td>True</td>\n",
       "    </tr>\n",
       "    <tr>\n",
       "      <th>3</th>\n",
       "      <td>NEW DELHI: In the wake of a large number of me...</td>\n",
       "      <td>True</td>\n",
       "    </tr>\n",
       "    <tr>\n",
       "      <th>4</th>\n",
       "      <td>AMARAVATI: Coronavirus cases crossed the 800 m...</td>\n",
       "      <td>True</td>\n",
       "    </tr>\n",
       "    <tr>\n",
       "      <th>5</th>\n",
       "      <td>NEW DELHI: Avinash and Kirti had an online wed...</td>\n",
       "      <td>True</td>\n",
       "    </tr>\n",
       "    <tr>\n",
       "      <th>6</th>\n",
       "      <td>KOLKATA: Describing the Covid-19 pandemic as t...</td>\n",
       "      <td>True</td>\n",
       "    </tr>\n",
       "    <tr>\n",
       "      <th>7</th>\n",
       "      <td>NEW DELHI: Controversial given the high risk o...</td>\n",
       "      <td>True</td>\n",
       "    </tr>\n",
       "    <tr>\n",
       "      <th>8</th>\n",
       "      <td>NEW DELHI: With 1383 new cases and 50 fataliti...</td>\n",
       "      <td>True</td>\n",
       "    </tr>\n",
       "    <tr>\n",
       "      <th>9</th>\n",
       "      <td>SRINAGAR: Two terrorists were killed in an enc...</td>\n",
       "      <td>True</td>\n",
       "    </tr>\n",
       "  </tbody>\n",
       "</table>\n",
       "</div>"
      ],
      "text/plain": [
       "                                                news label\n",
       "0  NEW DELHI: Shops selling educational books and...  True\n",
       "1  NEW DELHI: Shops selling educational books and...  True\n",
       "2  UNITED NATIONS: India has co-sponsored a UN Ge...  True\n",
       "3  NEW DELHI: In the wake of a large number of me...  True\n",
       "4  AMARAVATI: Coronavirus cases crossed the 800 m...  True\n",
       "5  NEW DELHI: Avinash and Kirti had an online wed...  True\n",
       "6  KOLKATA: Describing the Covid-19 pandemic as t...  True\n",
       "7  NEW DELHI: Controversial given the high risk o...  True\n",
       "8  NEW DELHI: With 1383 new cases and 50 fataliti...  True\n",
       "9  SRINAGAR: Two terrorists were killed in an enc...  True"
      ]
     },
     "execution_count": 12,
     "metadata": {},
     "output_type": "execute_result"
    }
   ],
   "source": [
    "newsDF.head(10)"
   ]
  },
  {
   "cell_type": "code",
   "execution_count": 13,
   "metadata": {},
   "outputs": [],
   "source": [
    "newsDF.to_csv('realNews.csv')"
   ]
  },
  {
   "cell_type": "code",
   "execution_count": null,
   "metadata": {},
   "outputs": [],
   "source": []
  },
  {
   "cell_type": "code",
   "execution_count": null,
   "metadata": {},
   "outputs": [],
   "source": []
  }
 ],
 "metadata": {
  "kernelspec": {
   "display_name": "Python 3",
   "language": "python",
   "name": "python3"
  },
  "language_info": {
   "codemirror_mode": {
    "name": "ipython",
    "version": 3
   },
   "file_extension": ".py",
   "mimetype": "text/x-python",
   "name": "python",
   "nbconvert_exporter": "python",
   "pygments_lexer": "ipython3",
   "version": "3.7.2"
  }
 },
 "nbformat": 4,
 "nbformat_minor": 4
}
