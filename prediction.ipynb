{
 "cells": [
  {
   "cell_type": "code",
   "execution_count": 1,
   "metadata": {},
   "outputs": [],
   "source": [
    "import pickle\n",
    "from nltk import word_tokenize\n",
    "from nltk.sentiment.vader import SentimentIntensityAnalyzer\n",
    "from lang import check_news"
   ]
  },
  {
   "cell_type": "code",
   "execution_count": 2,
   "metadata": {},
   "outputs": [],
   "source": [
    "sia = SentimentIntensityAnalyzer()"
   ]
  },
  {
   "cell_type": "code",
   "execution_count": 3,
   "metadata": {},
   "outputs": [
    {
     "name": "stdout",
     "output_type": "stream",
     "text": [
      "Please enter the news text you want to verify: The lockdown was first announced by Prime Minister Narendra Modi on March 24 in a bid to combat the coronavirus pandemic. It was later extended till May 3\n",
      "You entered: The lockdown was first announced by Prime Minister Narendra Modi on March 24 in a bid to combat the coronavirus pandemic. It was later extended till May 3\n"
     ]
    }
   ],
   "source": [
    "while True:\n",
    "    news = input(\"Please enter the news text you want to verify: \")\n",
    "    print(\"You entered: \" + str(news))\n",
    "    if len(word_tokenize(news))<10:\n",
    "        print('Entered news is too short to predict')\n",
    "    else:\n",
    "        break"
   ]
  },
  {
   "cell_type": "code",
   "execution_count": 5,
   "metadata": {},
   "outputs": [
    {
     "name": "stdout",
     "output_type": "stream",
     "text": [
      "The given statement is  True\n"
     ]
    }
   ],
   "source": [
    "def detecting_fake_news(news):    \n",
    "    load_model = pickle.load(open('classification_model.sav', 'rb'))\n",
    "    prediction = load_model.predict([news])\n",
    "\n",
    "    print(\"The given statement is \",prediction[0])\n",
    "    a = sia.polarity_scores(news)\n",
    "    if a['compound'] < -0.5:\n",
    "        print(\"We advise you not to forward this news as it contains unpleasant elements\")\n",
    "    \n",
    "    \n",
    "\n",
    "\n",
    "\n",
    "if __name__ == '__main__':\n",
    "    if not check_news.detectEnglishLanguage(news):\n",
    "        print(\"Entered news is not in english language\")\n",
    "    else:\n",
    "        detecting_fake_news(news)"
   ]
  },
  {
   "cell_type": "code",
   "execution_count": 2,
   "metadata": {},
   "outputs": [],
   "source": []
  },
  {
   "cell_type": "code",
   "execution_count": null,
   "metadata": {},
   "outputs": [],
   "source": []
  }
 ],
 "metadata": {
  "kernelspec": {
   "display_name": "Python 3",
   "language": "python",
   "name": "python3"
  },
  "language_info": {
   "codemirror_mode": {
    "name": "ipython",
    "version": 3
   },
   "file_extension": ".py",
   "mimetype": "text/x-python",
   "name": "python",
   "nbconvert_exporter": "python",
   "pygments_lexer": "ipython3",
   "version": "3.7.2"
  }
 },
 "nbformat": 4,
 "nbformat_minor": 2
}
