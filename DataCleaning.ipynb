{
 "cells": [
  {
   "cell_type": "code",
   "execution_count": 1,
   "metadata": {},
   "outputs": [],
   "source": [
    "import numpy as np\n",
    "import pandas as pd\n",
    "import nltk\n",
    "from nltk.corpus import stopwords\n",
    "from nltk.stem import SnowballStemmer\n",
    "from nltk.stem.porter import PorterStemmer\n",
    "from nltk.tokenize import word_tokenize\n",
    "from sklearn.model_selection import train_test_split\n",
    "from sklearn.feature_extraction.text import TfidfVectorizer\n",
    "from sklearn.linear_model import PassiveAggressiveClassifier\n",
    "from sklearn.metrics import accuracy_score, confusion_matrix, f1_score, classification_report, precision_recall_fscore_support\n",
    "from sklearn.model_selection import KFold\n",
    "import string"
   ]
  },
  {
   "cell_type": "code",
   "execution_count": 2,
   "metadata": {},
   "outputs": [],
   "source": [
    "from sklearn.pipeline import Pipeline\n",
    "from sklearn.linear_model import PassiveAggressiveClassifier\n",
    "from sklearn.naive_bayes import MultinomialNB\n",
    "from sklearn.linear_model import  LogisticRegression\n",
    "from sklearn.svm import LinearSVC\n",
    "from sklearn.neighbors import KNeighborsClassifier\n",
    "from sklearn.ensemble import RandomForestClassifier\n",
    "from sklearn.metrics import accuracy_score, confusion_matrix , classification_report\n",
    "import pickle"
   ]
  },
  {
   "cell_type": "code",
   "execution_count": 3,
   "metadata": {},
   "outputs": [],
   "source": [
    "data = pd.read_csv('allNews.csv')"
   ]
  },
  {
   "cell_type": "code",
   "execution_count": null,
   "metadata": {},
   "outputs": [],
   "source": []
  },
  {
   "cell_type": "code",
   "execution_count": 4,
   "metadata": {},
   "outputs": [],
   "source": [
    "def tokenize(data , result):\n",
    "    for i in range(len(data)):\n",
    "        result[i] = word_tokenize(data['news'][i])"
   ]
  },
  {
   "cell_type": "code",
   "execution_count": 5,
   "metadata": {},
   "outputs": [],
   "source": [
    "tokenize_text = {}"
   ]
  },
  {
   "cell_type": "code",
   "execution_count": null,
   "metadata": {},
   "outputs": [],
   "source": [
    "tokenize(data , tokenize_text)"
   ]
  },
  {
   "cell_type": "code",
   "execution_count": 6,
   "metadata": {},
   "outputs": [],
   "source": [
    "punctuation = word_tokenize(string.punctuation)"
   ]
  },
  {
   "cell_type": "code",
   "execution_count": 7,
   "metadata": {},
   "outputs": [],
   "source": [
    "def punctuationFilter(data , punctuation , result):\n",
    "    for i in range(len(data)):\n",
    "        result[i] = [w for w in data[i] if not w in punctuation ]"
   ]
  },
  {
   "cell_type": "code",
   "execution_count": 8,
   "metadata": {},
   "outputs": [],
   "source": [
    "punctuation_filtered_data = {}"
   ]
  },
  {
   "cell_type": "code",
   "execution_count": 9,
   "metadata": {},
   "outputs": [],
   "source": [
    "punctuationFilter(tokenize_text , punctuation , punctuation_filtered_data)"
   ]
  },
  {
   "cell_type": "code",
   "execution_count": 13,
   "metadata": {},
   "outputs": [],
   "source": [
    "final_data = {'news':punctuation_filtered_data , 'label':data['label']}"
   ]
  },
  {
   "cell_type": "code",
   "execution_count": 14,
   "metadata": {},
   "outputs": [],
   "source": [
    "cleanedNewsData = pd.DataFrame(final_data)"
   ]
  },
  {
   "cell_type": "code",
   "execution_count": 16,
   "metadata": {},
   "outputs": [],
   "source": [
    "cleanedNewsData.to_csv('cleanedNewsData.csv')"
   ]
  },
  {
   "cell_type": "markdown",
   "metadata": {},
   "source": [
    "# CLASSIFICATION"
   ]
  },
  {
   "cell_type": "code",
   "execution_count": 3,
   "metadata": {},
   "outputs": [],
   "source": [
    "data = pd.read_csv('cleanedNewsData.csv')"
   ]
  },
  {
   "cell_type": "code",
   "execution_count": 4,
   "metadata": {},
   "outputs": [
    {
     "data": {
      "text/html": [
       "<div>\n",
       "<style scoped>\n",
       "    .dataframe tbody tr th:only-of-type {\n",
       "        vertical-align: middle;\n",
       "    }\n",
       "\n",
       "    .dataframe tbody tr th {\n",
       "        vertical-align: top;\n",
       "    }\n",
       "\n",
       "    .dataframe thead th {\n",
       "        text-align: right;\n",
       "    }\n",
       "</style>\n",
       "<table border=\"1\" class=\"dataframe\">\n",
       "  <thead>\n",
       "    <tr style=\"text-align: right;\">\n",
       "      <th></th>\n",
       "      <th>Unnamed: 0</th>\n",
       "      <th>news</th>\n",
       "      <th>label</th>\n",
       "    </tr>\n",
       "  </thead>\n",
       "  <tbody>\n",
       "    <tr>\n",
       "      <th>0</th>\n",
       "      <td>0</td>\n",
       "      <td>['Daniel', 'Greenfield', 'a', 'Shillman', 'Jou...</td>\n",
       "      <td>FAKE</td>\n",
       "    </tr>\n",
       "    <tr>\n",
       "      <th>1</th>\n",
       "      <td>1</td>\n",
       "      <td>['Google', 'Pinterest', 'Digg', 'Linkedin', 'R...</td>\n",
       "      <td>FAKE</td>\n",
       "    </tr>\n",
       "    <tr>\n",
       "      <th>2</th>\n",
       "      <td>2</td>\n",
       "      <td>['U.S.', 'Secretary', 'of', 'State', 'John', '...</td>\n",
       "      <td>REAL</td>\n",
       "    </tr>\n",
       "    <tr>\n",
       "      <th>3</th>\n",
       "      <td>3</td>\n",
       "      <td>['—', 'Kaydee', 'King', 'KaydeeKing', 'Novembe...</td>\n",
       "      <td>FAKE</td>\n",
       "    </tr>\n",
       "    <tr>\n",
       "      <th>4</th>\n",
       "      <td>4</td>\n",
       "      <td>['It', \"'s\", 'primary', 'day', 'in', 'New', 'Y...</td>\n",
       "      <td>REAL</td>\n",
       "    </tr>\n",
       "  </tbody>\n",
       "</table>\n",
       "</div>"
      ],
      "text/plain": [
       "   Unnamed: 0                                               news label\n",
       "0           0  ['Daniel', 'Greenfield', 'a', 'Shillman', 'Jou...  FAKE\n",
       "1           1  ['Google', 'Pinterest', 'Digg', 'Linkedin', 'R...  FAKE\n",
       "2           2  ['U.S.', 'Secretary', 'of', 'State', 'John', '...  REAL\n",
       "3           3  ['—', 'Kaydee', 'King', 'KaydeeKing', 'Novembe...  FAKE\n",
       "4           4  ['It', \"'s\", 'primary', 'day', 'in', 'New', 'Y...  REAL"
      ]
     },
     "execution_count": 4,
     "metadata": {},
     "output_type": "execute_result"
    }
   ],
   "source": [
    "data.head()"
   ]
  },
  {
   "cell_type": "code",
   "execution_count": 5,
   "metadata": {},
   "outputs": [],
   "source": [
    "x_train,x_test,y_train,y_test = train_test_split(data['news'] , data['label'] , test_size = 0.01 , random_state = 7)"
   ]
  },
  {
   "cell_type": "code",
   "execution_count": null,
   "metadata": {},
   "outputs": [],
   "source": []
  },
  {
   "cell_type": "code",
   "execution_count": 6,
   "metadata": {},
   "outputs": [],
   "source": [
    "tfidf = TfidfVectorizer(ngram_range=(1,2),use_idf=True,smooth_idf=True)"
   ]
  },
  {
   "cell_type": "code",
   "execution_count": null,
   "metadata": {},
   "outputs": [],
   "source": []
  },
  {
   "cell_type": "code",
   "execution_count": 7,
   "metadata": {},
   "outputs": [],
   "source": [
    "svm = Pipeline([\n",
    "        ('svm_tfidf',tfidf),\n",
    "        ('svm_clf',LinearSVC())\n",
    "        ])"
   ]
  },
  {
   "cell_type": "code",
   "execution_count": 8,
   "metadata": {},
   "outputs": [
    {
     "data": {
      "text/plain": [
       "Pipeline(memory=None,\n",
       "         steps=[('svm_tfidf',\n",
       "                 TfidfVectorizer(analyzer='word', binary=False,\n",
       "                                 decode_error='strict',\n",
       "                                 dtype=<class 'numpy.float64'>,\n",
       "                                 encoding='utf-8', input='content',\n",
       "                                 lowercase=True, max_df=1.0, max_features=None,\n",
       "                                 min_df=1, ngram_range=(1, 2), norm='l2',\n",
       "                                 preprocessor=None, smooth_idf=True,\n",
       "                                 stop_words=None, strip_accents=None,\n",
       "                                 sublinear_tf=False,\n",
       "                                 token_pattern='(?u)\\\\b\\\\w\\\\w+\\\\b',\n",
       "                                 tokenizer=None, use_idf=True,\n",
       "                                 vocabulary=None)),\n",
       "                ('svm_clf',\n",
       "                 LinearSVC(C=1.0, class_weight=None, dual=True,\n",
       "                           fit_intercept=True, intercept_scaling=1,\n",
       "                           loss='squared_hinge', max_iter=1000,\n",
       "                           multi_class='ovr', penalty='l2', random_state=None,\n",
       "                           tol=0.0001, verbose=0))],\n",
       "         verbose=False)"
      ]
     },
     "execution_count": 8,
     "metadata": {},
     "output_type": "execute_result"
    }
   ],
   "source": [
    "svm.fit(x_train , y_train)"
   ]
  },
  {
   "cell_type": "code",
   "execution_count": 21,
   "metadata": {},
   "outputs": [],
   "source": [
    "svm_y_pred = svm.predict(x_test)"
   ]
  },
  {
   "cell_type": "code",
   "execution_count": 22,
   "metadata": {},
   "outputs": [
    {
     "data": {
      "text/plain": [
       "66"
      ]
     },
     "execution_count": 22,
     "metadata": {},
     "output_type": "execute_result"
    }
   ],
   "source": [
    "len(svm_y_pred)"
   ]
  },
  {
   "cell_type": "code",
   "execution_count": 15,
   "metadata": {},
   "outputs": [
    {
     "name": "stdout",
     "output_type": "stream",
     "text": [
      "0.9393939393939394\n"
     ]
    }
   ],
   "source": [
    "print(accuracy_score(y_test , svm_y_pred))"
   ]
  },
  {
   "cell_type": "code",
   "execution_count": 20,
   "metadata": {},
   "outputs": [
    {
     "name": "stdout",
     "output_type": "stream",
     "text": [
      "[[26  2  0]\n",
      " [ 2 32  0]\n",
      " [ 0  0  4]]\n"
     ]
    }
   ],
   "source": [
    "print(confusion_matrix(svm.predict(x_test), y_test))"
   ]
  },
  {
   "cell_type": "code",
   "execution_count": 17,
   "metadata": {},
   "outputs": [
    {
     "name": "stdout",
     "output_type": "stream",
     "text": [
      "              precision    recall  f1-score   support\n",
      "\n",
      "        FAKE       0.93      0.93      0.93        28\n",
      "        REAL       0.94      0.94      0.94        34\n",
      "        True       1.00      1.00      1.00         4\n",
      "\n",
      "    accuracy                           0.94        66\n",
      "   macro avg       0.96      0.96      0.96        66\n",
      "weighted avg       0.94      0.94      0.94        66\n",
      "\n"
     ]
    }
   ],
   "source": [
    "print(classification_report(y_test, svm_y_pred))"
   ]
  },
  {
   "cell_type": "code",
   "execution_count": null,
   "metadata": {},
   "outputs": [],
   "source": [
    "model = 'classification_model.sav'"
   ]
  },
  {
   "cell_type": "code",
   "execution_count": 45,
   "metadata": {},
   "outputs": [],
   "source": [
    "pickle.dump(svm , open(model , 'wb'))"
   ]
  },
  {
   "cell_type": "code",
   "execution_count": null,
   "metadata": {},
   "outputs": [],
   "source": []
  },
  {
   "cell_type": "code",
   "execution_count": 3,
   "metadata": {},
   "outputs": [],
   "source": [
    "real_news_list = []"
   ]
  },
  {
   "cell_type": "code",
   "execution_count": 4,
   "metadata": {},
   "outputs": [],
   "source": [
    "for i in range(2,10):\n",
    "    real_news_list.append([x['news'][i]])"
   ]
  },
  {
   "cell_type": "code",
   "execution_count": 7,
   "metadata": {},
   "outputs": [
    {
     "data": {
      "text/plain": [
       "['UNITED NATIONS: India has co-sponsored a UN General Assembly resolution that called for a fair, transparent and equitable access to essential medical supplies and any future vaccines developed to fight Covid-19 that has claimed over 177,000 lives and infected more than 2.5 million people. The 193-Member General Assembly adopted the Mexico-drafted resolution \\'International cooperation to ensure global access to medicines, vaccines and medical equipment to face Covid-19\\' by consensus on Monday. Pakistan was among the small minority of nations that did not sponsor the resolution. India was among the 179 nations co-sponsoring the resolution that called for ensuring \"fair, transparent, equitable, efficient and timely access to and distribution of preventive tools, laboratory testing, reagents and supporting materials, essential medical supplies, new diagnostics, drugs and future Covid-19 vaccines\" to all nations, particular developing countries. \"India has proactively engaged in supporting global availability of medicines and drugs by means of international cooperation and development partnerships. Also, we are facilitating the sourcing of global supplies of multilateral agencies such as UNICEF in the face of Covid-19. We were therefore glad to co-sponsor this important initiative,\" India\\'s Permanent Representative to the UN Ambassador Syed Akbaruddin told PTI. India has been at the forefront of sending essential medical supplies and medicines such as anti-malarial drug hydroxychloroquine to several nations, with UN Secretary General Antonio Guterres saying he \"salutes\" nations like India that are helping other countries in their fight against the devastating pandemic. A number of countries, including the US, Mauritius and Seychelles have already received the drug. In its neighborhood, India is sending the drug to Afghanistan, Bhutan, Bangladesh, Nepal, The Maldives, Mauritius, Sri Lanka and Myanmar. Pakistan said it has some reservations on the resolution drafted by Mexico. \"We regret that the draft resolution could not include reference to ensure access to information, preventive and other health care for all persons arbitrarily deprived of their liberty especially those in regions under foreign occupation,\" Pakistan said in its explanation of vote sent to the President of the General Assembly Tijjani Muhammad-Bande. The resolution, which received US support, was the second document to be adopted by the General Assembly on the Covid-19 pandemic. Earlier this month, the General Assembly unanimously adopted a resolution, co-sponsored by 188 nations including India, calling for intensified international cooperation to defeat the pandemic that is causing \"severe disruption to societies and economies\". The latest resolution also acknowledged the \"crucial leading role\" played by the World Health Organization, which has come under constant attack by the Trump administration over its handling of the outbreak. It recognised the importance of international cooperation and effective multilateralism in helping to ensure that all States have in place effective national protective measures, access to and flow of vital medical supplies, medicines and vaccines in order to minimise negative effects in all affected states and to avoid relapses of the pandemic. It encouraged Member States to work in partnership with all relevant stakeholders to increase research and development funding for vaccines and medicines, leverage digital technologies, and strengthen scientific international cooperation necessary to combat COVID-19 and to bolster coordination, including with the private sector, towards rapid development, manufacturing and distribution of diagnostics, antiviral medicines, personal protective equipment and vaccines, adhering to the objectives of efficacy, safety, equity, accessibility, and affordability. It calls on member states and other relevant stakeholders to immediately take steps to prevent, within their respective legal frameworks, speculation and \"undue stockpiling\" that may hinder access to safe, effective and affordable essential medicines, vaccines, personal protective equipment and medical equipment required to effectively address Covid-19. The resolution requested the Secretary-General, in close collaboration with the World Health Organization, to take the necessary steps to effectively coordinate efforts of the United Nations system to promote and ensure global access to medicines, vaccines and medical equipment needed to face Covid-19. According to estimates by Johns Hopkins University, there are more than 2.5 million confirmed coronavirus cases in the world and over 177,000 people have died from the virus. The US is the most hit by the pandemic, with more than 824,000 people infected and over 45,000 deaths. DownloadThe Times of India News App for Latest India NewsSubscribeStart Your Daily Mornings with Times of India Newspaper! Order Now']"
      ]
     },
     "execution_count": 7,
     "metadata": {},
     "output_type": "execute_result"
    }
   ],
   "source": [
    "real_news_list[0]"
   ]
  },
  {
   "cell_type": "code",
   "execution_count": null,
   "metadata": {},
   "outputs": [],
   "source": []
  },
  {
   "cell_type": "code",
   "execution_count": null,
   "metadata": {},
   "outputs": [],
   "source": []
  },
  {
   "cell_type": "code",
   "execution_count": null,
   "metadata": {},
   "outputs": [],
   "source": []
  },
  {
   "cell_type": "code",
   "execution_count": null,
   "metadata": {},
   "outputs": [],
   "source": []
  },
  {
   "cell_type": "code",
   "execution_count": null,
   "metadata": {},
   "outputs": [],
   "source": []
  },
  {
   "cell_type": "code",
   "execution_count": null,
   "metadata": {},
   "outputs": [],
   "source": []
  },
  {
   "cell_type": "code",
   "execution_count": null,
   "metadata": {},
   "outputs": [],
   "source": []
  },
  {
   "cell_type": "code",
   "execution_count": null,
   "metadata": {},
   "outputs": [],
   "source": []
  },
  {
   "cell_type": "code",
   "execution_count": null,
   "metadata": {},
   "outputs": [],
   "source": []
  }
 ],
 "metadata": {
  "kernelspec": {
   "display_name": "Python 3",
   "language": "python",
   "name": "python3"
  },
  "language_info": {
   "codemirror_mode": {
    "name": "ipython",
    "version": 3
   },
   "file_extension": ".py",
   "mimetype": "text/x-python",
   "name": "python",
   "nbconvert_exporter": "python",
   "pygments_lexer": "ipython3",
   "version": "3.7.2"
  }
 },
 "nbformat": 4,
 "nbformat_minor": 4
}
